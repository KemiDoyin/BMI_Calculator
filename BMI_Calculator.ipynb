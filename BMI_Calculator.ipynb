{
 "cells": [
  {
   "cell_type": "markdown",
   "metadata": {},
   "source": [
    "## BMI Calculator &#129518;&#129518;\n",
    "\n"
   ]
  },
  {
   "cell_type": "code",
   "execution_count": null,
   "metadata": {},
   "outputs": [],
   "source": [
    "name = input(\"Enter your name: \")\n",
    "\n",
    "weight = float(input(\"Enter your weight in kg: \"))\n",
    "\n",
    "height = float(input(\"Enter your height in m: \"))\n",
    "\n",
    "def bmi_calc(weight, height):\n",
    "    bmi = weight / (height ** 2)\n",
    "    return bmi\n",
    "     \n",
    "\n",
    "def describe_bmi(bmi):\n",
    "    if bmi > 0:\n",
    "        if bmi < 18.5:\n",
    "            return \"you are underweight\"\n",
    "        elif 18.5 <= bmi <= 24.9:\n",
    "            return \"you have a healthy weight\"\n",
    "        elif 25.0 <= bmi <= 29.9:\n",
    "            return \"you are overweight\"\n",
    "        elif bmi >= 30.0:\n",
    "            return \"you are obese\"\n",
    "        else:\n",
    "            return \"you are severely obese\"\n",
    "    else:\n",
    "        return \"Input a correct number\"\n",
    "\n",
    "BMI = round(bmi_calc(weight, height), 5)\n",
    "BMI_Desc = describe_bmi(BMI)\n",
    "\n",
    "result = \"Hey {}, your BMI is {}, {}!\"\n",
    "\n",
    "print(result.format(name, BMI, BMI_Desc))"
   ]
  }
 ],
 "metadata": {
  "kernelspec": {
   "display_name": "Python 3",
   "language": "python",
   "name": "python3"
  },
  "language_info": {
   "codemirror_mode": {
    "name": "ipython",
    "version": 3
   },
   "file_extension": ".py",
   "mimetype": "text/x-python",
   "name": "python",
   "nbconvert_exporter": "python",
   "pygments_lexer": "ipython3",
   "version": "3.11.5"
  },
  "orig_nbformat": 4
 },
 "nbformat": 4,
 "nbformat_minor": 2
}
